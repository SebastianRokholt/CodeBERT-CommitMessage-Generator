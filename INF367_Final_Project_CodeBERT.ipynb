{
 "cells": [
  {
   "cell_type": "markdown",
   "metadata": {
    "id": "gLwqR0yrwWPf"
   },
   "source": [
    "## INF367: Final Project\n",
    "# Fine-Tuning CodeBERT for Git Commit Message Generation\n",
    "---\n",
    "> by **Sebastian Einar Salas Røkholt**<br>\n",
    "> INF367 - Selected Topics for Artificial Intelligence: Language Processing <br>\n",
    "> Autumn 2022 <br>\n",
    "> The University of Bergen, Department for Informatics <br>\n",
    "\n",
    "---\n",
    "\n",
    "Project code repository available at [Github.com](https://github.com/SebastianRokholt/CodeBERT-CommitMessage-Generator)\n",
    "<br>\n",
    "\n",
    "**[Read the Project Report](#)**\n",
    "</br>\n",
    "\n",
    "### Table of Contents\n",
    "\n",
    "1. [**Introduction**](#intro)<br>\n",
    "\n",
    "2. [**Inital Setup**](#setup)<br>\n",
    "\n",
    "3. [**Data Collection**](#collection)<br>\n",
    "\n",
    "4. [**Data Pre-processing**](#pre-processing)<br>\n",
    "\n",
    "5. [**Modelling**](#modelling)<br>\n",
    "    5.1       [*Architecture*](#architecture) <br>\n",
    "    5.2       [*Fine-tuning CodeBERT on Git diffs*](#fine-tune) <br>\n",
    "    5.3       [*Running predictions*](#pred) <br>\n",
    "\n",
    "6. [**Evaluation and Future Work**](#test-eval) <br>\n",
    "\n",
    "7. [**Credits and References**](#ref) <br>\n",
    "\n",
    "---"
   ]
  },
  {
   "cell_type": "markdown",
   "metadata": {},
   "source": [
    "### <a id=\"intro\"></a>1) Introduction\n",
    "\n",
    "The aim of this project is to extend the work on NL-PL language modelling proposed in [CodeBERT: A Pre-Trained Model for Programming and Natural Languages](https://arxiv.org/abs/2002.08155) (Feng et al, 2020) by reproducing and experimenting with the work proposed in [CommitBERT: Commit Message Generation Using Pre-Trained Programming Language Model](https://arxiv.org/abs/2105.14242) (Jung, 2021). \n",
    "\n",
    "The former of the two papers presented research on creating a large, pre-trained language model for natural language and programming language, with many possible downstream tasks such as code search, code repair, code completion, and code documentation generation. The latter of the two papers presents experiments on applying CodeBERT to code documentation generation, specifically an application for automatically generating commit messages. \n",
    "\n",
    "I will be attempting to experiment with the methodology proposed in the CommitBERT paper, and will hopefully be able to reproduce some of the results. It is important to note, however, that I have access to severely limited compute resources and will therefore not be able to reproduce a high-performance model. \n",
    "\n",
    "My primary goal with this project is to learn as much as I can about the methods proposed in the two papers. I want to achieve this goal by attempting to fine-tune a \"CommitBERT\"-style language model on a small dataset consisting of open source code repositories, including some of my own Github repositories. I hope that the resulting model will be able to capture some of my commit message writing style, though I obviously will need to fine-tune on many other repositories as well. \n",
    "\n",
    "Since I have resource and time constraint, I will not be doing all of the work from scratch. Specificaly, I will be downloading fine-tuned CodeBERT model weights to use as initial model weights before fine-tuning my own CodeBERT model on git diffs. The initial weights are retrieved from Tae-Hwan Jung's open source code for the CommitBERT paper. I will also be using a wide array of imported packages and tools, including Microsoft's CodeBERT training script from the original CodeBERT paper's code - though I have tweaked it somewhat in order to fit my machine learning pipeline. I have tried to give credit where credit is due, so that it is clear what code I have written myself and what I have imported from other libraries and projects. "
   ]
  },
  {
   "cell_type": "markdown",
   "metadata": {
    "id": "uM9A6cjr9Ekv"
   },
   "source": [
    "### Notebook Setup\n",
    "This notebook is designed to run in Google Colab. Fine-tuning the language model on a CPU is infeasible, so you may either skip these cells (and download the trained weights) or attempt to fine-tune the model with a GPU/TPU. I trained on an Nvidia A100 Tensor Core GPU, which was available through Google Colab Pro."
   ]
  },
  {
   "cell_type": "code",
   "execution_count": 1,
   "metadata": {
    "colab": {
     "base_uri": "https://localhost:8080/"
    },
    "id": "nf02JDCYg3vd",
    "outputId": "22716322-29ee-4a94-9a5a-cd7b83cb9530"
   },
   "outputs": [],
   "source": [
    "%%sh\n",
    "git clone https://github.com/SebastianRokholt/CodeBERT-CommitMessage-Generator.git\n",
    "cd codebert-commit-generator\n",
    "pip install -q -r requirements.txt"
   ]
  },
  {
   "cell_type": "code",
   "execution_count": 2,
   "metadata": {
    "colab": {
     "base_uri": "https://localhost:8080/"
    },
    "id": "0LreH3lfLGtY",
    "outputId": "a337276e-a804-4101-c376-78e91fb123de"
   },
   "outputs": [
    {
     "name": "stdout",
     "output_type": "stream",
     "text": [
      "Sun Nov  6 10:13:28 2022       \n",
      "+-----------------------------------------------------------------------------+\n",
      "| NVIDIA-SMI 460.32.03    Driver Version: 460.32.03    CUDA Version: 11.2     |\n",
      "|-------------------------------+----------------------+----------------------+\n",
      "| GPU  Name        Persistence-M| Bus-Id        Disp.A | Volatile Uncorr. ECC |\n",
      "| Fan  Temp  Perf  Pwr:Usage/Cap|         Memory-Usage | GPU-Util  Compute M. |\n",
      "|                               |                      |               MIG M. |\n",
      "|===============================+======================+======================|\n",
      "|   0  A100-SXM4-40GB      Off  | 00000000:00:04.0 Off |                    0 |\n",
      "| N/A   28C    P0    44W / 400W |      0MiB / 40536MiB |      0%      Default |\n",
      "|                               |                      |             Disabled |\n",
      "+-------------------------------+----------------------+----------------------+\n",
      "                                                                               \n",
      "+-----------------------------------------------------------------------------+\n",
      "| Processes:                                                                  |\n",
      "|  GPU   GI   CI        PID   Type   Process name                  GPU Memory |\n",
      "|        ID   ID                                                   Usage      |\n",
      "|=============================================================================|\n",
      "|  No running processes found                                                 |\n",
      "+-----------------------------------------------------------------------------+\n"
     ]
    }
   ],
   "source": [
    "# Displaying the GPU setup for the notebook environment\n",
    "gpu_info = !nvidia-smi\n",
    "gpu_info = '\\n'.join(gpu_info)\n",
    "if gpu_info.find('failed') >= 0:\n",
    "  print('Not connected to a GPU')\n",
    "else:\n",
    "  print(gpu_info)"
   ]
  },
  {
   "cell_type": "code",
   "execution_count": null,
   "metadata": {},
   "outputs": [],
   "source": [
    "# If training on an A100 GPU, the Pytorch installation needs to be Cu111 compatible\n",
    "%%shell\n",
    "pip install -q torch==1.9.0+cu111 torchvision==0.10.0+cu111 torchaudio==0.9.0 -f https://download.pytorch.org/whl/torch_stable.html"
   ]
  },
  {
   "cell_type": "code",
   "execution_count": 2,
   "metadata": {
    "colab": {
     "base_uri": "https://localhost:8080/"
    },
    "id": "v63CrlaXatVF",
    "outputId": "f3cd0396-c212-414f-845c-5f98c72253c8",
    "scrolled": true
   },
   "outputs": [
    {
     "name": "stderr",
     "output_type": "stream",
     "text": [
      "2022-11-06 17:31:27.720884: I tensorflow/core/platform/cpu_feature_guard.cc:193] This TensorFlow binary is optimized with oneAPI Deep Neural Network Library (oneDNN) to use the following CPU instructions in performance-critical operations:  AVX2 FMA\n",
      "To enable them in other operations, rebuild TensorFlow with the appropriate compiler flags.\n",
      "2022-11-06 17:31:27.822276: W tensorflow/stream_executor/platform/default/dso_loader.cc:64] Could not load dynamic library 'libcudart.so.11.0'; dlerror: libcudart.so.11.0: cannot open shared object file: No such file or directory\n",
      "2022-11-06 17:31:27.822291: I tensorflow/stream_executor/cuda/cudart_stub.cc:29] Ignore above cudart dlerror if you do not have a GPU set up on your machine.\n",
      "2022-11-06 17:31:27.843269: E tensorflow/stream_executor/cuda/cuda_blas.cc:2981] Unable to register cuBLAS factory: Attempting to register factory for plugin cuBLAS when one has already been registered\n",
      "2022-11-06 17:31:28.352815: W tensorflow/stream_executor/platform/default/dso_loader.cc:64] Could not load dynamic library 'libnvinfer.so.7'; dlerror: libnvinfer.so.7: cannot open shared object file: No such file or directory\n",
      "2022-11-06 17:31:28.352866: W tensorflow/stream_executor/platform/default/dso_loader.cc:64] Could not load dynamic library 'libnvinfer_plugin.so.7'; dlerror: libnvinfer_plugin.so.7: cannot open shared object file: No such file or directory\n",
      "2022-11-06 17:31:28.352873: W tensorflow/compiler/tf2tensorrt/utils/py_utils.cc:38] TF-TRT Warning: Cannot dlopen some TensorRT libraries. If you would like to use Nvidia GPU with TensorRT, please make sure the missing libraries mentioned above are installed properly.\n"
     ]
    }
   ],
   "source": [
    "# Utility stuff\n",
    "import os\n",
    "import easydict \n",
    "import whatthepatch\n",
    "from tqdm import tqdm\n",
    "\n",
    "# Visualizations\n",
    "import matplotlib.pyplot as plt\n",
    "\n",
    "# Deep learning stuff\n",
    "import torch\n",
    "import torch.nn as nn\n",
    "from torch.utils.data import TensorDataset, DataLoader, SequentialSampler\n",
    "from transformers import (RobertaConfig, RobertaTokenizer)\n",
    "from greykode_commit.model import Seq2Seq\n",
    "from greykode_commit.utils import convert_examples_to_features\n",
    "from greykode_commit.model.diff_roberta import RobertaModel\n",
    "\n",
    "# Constants\n",
    "MODEL_CLASSES = {'roberta': (RobertaConfig, RobertaModel, RobertaTokenizer)}"
   ]
  },
  {
   "cell_type": "markdown",
   "metadata": {},
   "source": [
    "### Data Collection and Wrangling"
   ]
  },
  {
   "cell_type": "markdown",
   "metadata": {},
   "source": [
    "Scraping Github Repositories. \n",
    "I will try to collect git diffs from 50 repositories, where 4 of them are my own. "
   ]
  },
  {
   "cell_type": "code",
   "execution_count": 3,
   "metadata": {},
   "outputs": [
    {
     "name": "stdout",
     "output_type": "stream",
     "text": [
      "Repositories to crawl: ['SebastianRokholt/Data-Science-Projects', 'SebastianRokholt/Hybrid-Recommender-System', 'Jonnashell/info216-groupproject', 'SebastianRokholt/Soccer-Predictions', 'IBM/pytorch-seq2seq', 'tiangolo/fastapi', 'TheAlgorithms/Python', 'vinta/awesome-python', 'django/django', 'pallets/flask', 'httpie/httpie', 'josephmisiti/awesome-machine-learning', 'ansible/ansible', 'psf/requests', 'deepfakes/faceswap', 'apache/incubator-superset', 'XX-net/XX-Net', 'pandas-dev/pandas', 'satwikkansal/wtfpython', 'pypa/pipenv', 'donnemartin/interactive-coding-challenges', 'mitmproxy/mitmproxy', 'donnemartin/data-science-ipython-notebooks', 'tornadoweb/tornado', 'chubin/cheat.sh', 'trailofbits/algo', 'geekcomputers/Python', 'encode/django-rest-framework', 'apache/airflow', 'matterport/Mask_RCNN', 'swisskyrepo/PayloadsAllTheThings', 'yunjey/pytorch-tutorial', 'sqlmapproject/sqlmap', 'psf/black', 'keon/algorithms', 'google/python-fire', 'explosion/spaCy', 'drduh/macOS-Security-and-Privacy-Guide', 'nicolargo/glances', 'sebastianruder/NLP-progress', 'StevenBlack/hosts', 'celery/celery', 'magenta/magenta', 'gto76/python-cheatsheet', 'reddit-archive/reddit', 'numpy/numpy', 'sherlock-project/sherlock', 'charlax/professional-programming', 'pytorch/examples', 'openai/gpt-2']\n",
      "Progress: 1 out of 50 downloaded. \n",
      "Progress: 2 out of 50 downloaded. \n",
      "Progress: 3 out of 50 downloaded. \n",
      "Progress: 4 out of 50 downloaded. \n",
      "Progress: 5 out of 50 downloaded. \n",
      "Progress: 6 out of 50 downloaded. \n",
      "Progress: 7 out of 50 downloaded. \n",
      "Progress: 8 out of 50 downloaded. \n",
      "Progress: 9 out of 50 downloaded. \n",
      "Progress: 10 out of 50 downloaded. \n",
      "Progress: 11 out of 50 downloaded. \n",
      "Progress: 12 out of 50 downloaded. \n",
      "Progress: 13 out of 50 downloaded. \n",
      "Progress: 14 out of 50 downloaded. \n",
      "Progress: 15 out of 50 downloaded. \n",
      "Progress: 16 out of 50 downloaded. \n",
      "Progress: 17 out of 50 downloaded. \n",
      "Progress: 18 out of 50 downloaded. \n",
      "Progress: 19 out of 50 downloaded. \n",
      "Progress: 20 out of 50 downloaded. \n",
      "Progress: 21 out of 50 downloaded. \n",
      "Progress: 22 out of 50 downloaded. \n",
      "Progress: 23 out of 50 downloaded. \n",
      "Progress: 24 out of 50 downloaded. \n",
      "Progress: 25 out of 50 downloaded. \n",
      "Progress: 26 out of 50 downloaded. \n",
      "Progress: 27 out of 50 downloaded. \n",
      "Progress: 28 out of 50 downloaded. \n",
      "Progress: 29 out of 50 downloaded. \n",
      "Progress: 30 out of 50 downloaded. \n",
      "Progress: 31 out of 50 downloaded. \n",
      "Progress: 32 out of 50 downloaded. \n",
      "Progress: 33 out of 50 downloaded. \n",
      "Progress: 34 out of 50 downloaded. \n",
      "Progress: 35 out of 50 downloaded. \n",
      "Progress: 36 out of 50 downloaded. \n",
      "Progress: 37 out of 50 downloaded. \n",
      "Progress: 38 out of 50 downloaded. \n",
      "Progress: 39 out of 50 downloaded. \n",
      "Progress: 40 out of 50 downloaded. \n",
      "Progress: 41 out of 50 downloaded. \n",
      "Progress: 42 out of 50 downloaded. \n",
      "Progress: 43 out of 50 downloaded. \n",
      "Progress: 44 out of 50 downloaded. \n",
      "Progress: 45 out of 50 downloaded. \n",
      "Progress: 46 out of 50 downloaded. \n",
      "Progress: 47 out of 50 downloaded. \n",
      "Progress: 48 out of 50 downloaded. \n",
      "Progress: 49 out of 50 downloaded. \n",
      "Progress: 50 out of 50 downloaded. \n"
     ]
    }
   ],
   "source": [
    "from queue import Queue\n",
    "import git\n",
    "from time import sleep\n",
    "import os\n",
    "from threading import Thread\n",
    "\n",
    "class RepoScraper():\n",
    "    \"\"\"\n",
    "    A class for \"Scraping\" Git Repositories, i.e. downloading by git cloning them to the specified download path.\n",
    "    \"\"\"\n",
    "    def __init__(self, repositories, download_path):\n",
    "        \"\"\"\n",
    "        :param repositories: The total number of Github repositories to be downloaded\n",
    "        :param download_path: The path to the directory for downloading all of the scraped repositories\n",
    "        \"\"\"\n",
    "        self.queue = Queue()  # data structure for scraping repos\n",
    "        self.count = 0  # keeps track of progress\n",
    "        self.total_n_repos = len(repositories)\n",
    "        self.download_path = download_path\n",
    "\n",
    "        # Multithreading with 16 threads.\n",
    "        # NB! More threads => higher memory usage\n",
    "        for _ in range(16):\n",
    "            _thread = Thread(target=self.cloner)\n",
    "            _thread.daemon = True\n",
    "            _thread.start()\n",
    "\n",
    "    def clone_repos(self, repo_gh_file_path):\n",
    "        \"\"\"\n",
    "        :param repo_gh_file_path: The file path to the Github repository, e.g: SebastianRokholt/CodeBERT-CommitMessage-Generator\n",
    "        \"\"\"\n",
    "        try:\n",
    "            # Clone repo to download dir\n",
    "            git.Repo.clone_from(\n",
    "                f'https://:@github.com/{repo_gh_file_path}.git',\n",
    "                f'{self.download_path}/{repo_gh_file_path}'\n",
    "            )\n",
    "\n",
    "            sleep(0.2)  # Trying to avoid blacklisting due to high page request frequency\n",
    "\n",
    "            self.count += 1 \n",
    "            print(f\"Progress: {self.count} out of {self.total_n_repos} downloaded. \")\n",
    "        \n",
    "        # Very basic error handling\n",
    "        except git.exc.GitError as e:\n",
    "            print(f\"The following error occurred while attempting to clone repository from https://:@github.com/{repo_gh_file_path}.git: \")\n",
    "            print(e)\n",
    "\n",
    "    def cloner(self):\n",
    "        \"\"\"\n",
    "        Runs the crawling method (clone_repos) on the repositories according to the crawl queue. \n",
    "        Called by the multithreading daemon. \n",
    "        Terminates when the crawl queue is empty. \n",
    "        \"\"\"\n",
    "        while True:\n",
    "            repo_file_path = self.queue.get()  # Retrieves the next repo from the queue\n",
    "            self.clone_repos(repo_file_path)  # Runs the crawling method on the repo\n",
    "            self.queue.task_done()  # Registers the task (crawling the repo) as completed\n",
    "\n",
    "    def join_queue(self):\n",
    "        \"\"\"\n",
    "        Blocks until all repos in the crawl queue have been gotten and processed.\n",
    "        Unblocks when count of unfinished tasks drops to zero.\n",
    "        \"\"\"\n",
    "        self.queue.join()\n",
    "\n",
    "    def put_queue(self, repo_file_path):\n",
    "        \"\"\"\n",
    "        Puts a repo into the crawl queue. \n",
    "        \"\"\"\n",
    "        self.queue.put(repo_file_path)\n",
    "        \n",
    "\n",
    "download_path=\"data/raw/python\"\n",
    "os.makedirs(download_path, exist_ok=True)\n",
    "\n",
    "# Read the repositories to crawl from file\n",
    "repositories = []\n",
    "with open(\"repositories/python-50.txt\", encoding=\"utf-8\") as file:\n",
    "    for line in file:\n",
    "        line = line.strip()\n",
    "        repositories.append(line.replace('https://github.com/', ''))\n",
    "print(\"Repositories to crawl:\", repositories)\n",
    "\n",
    "# Instantiate the repo scraper\n",
    "scraper = RepoScraper(repositories=set(repositories), download_path=download_path)\n",
    "\n",
    "# Start scraping\n",
    "for repo in repositories:\n",
    "    # Put each repo in the crawl queue\n",
    "    scraper.put_queue(repo)\n",
    "scraper.join_queue()"
   ]
  },
  {
   "cell_type": "code",
   "execution_count": null,
   "metadata": {},
   "outputs": [],
   "source": [
    "# Here I used Tae-Hwang Jung's pre-processing algorithm (CommitBERT paper page 4) \n",
    "# and parsing script (gitparser.py) as a starting point and guide:\n",
    "# https://github.com/graykode/commit-autosuggestions/blob/master/gitparser.py\n",
    "# See the project report for details about which changes I made, and why. \n",
    "\n",
    "# IMPORTS\n",
    "import os\n",
    "import re\n",
    "import json\n",
    "import random\n",
    "import jsonlines\n",
    "import spacy\n",
    "import errno\n",
    "from pydriller import RepositoryMining\n",
    "from transformers import RobertaTokenizer\n",
    "from nltk.tokenize import word_tokenize\n",
    "from spacy.language import Language\n",
    "from spacy_langdetect import LanguageDetector\n",
    "\n",
    "# CONSTANTS\n",
    "repositories=\"repositories/python-50.txt\"\n",
    "repos_dir=\"data/raw/python\"\n",
    "output_dir=\"data/parsed/python\"\n",
    "output_file = os.path.join(output_dir, 'dataset.jsonl')\n",
    "cb_tokenizer = RobertaTokenizer.from_pretrained(\"microsoft/codebert-base\")\n",
    "\n",
    "# LANGUAGE DETECTION\n",
    "@Language.factory(\"language_detector\")\n",
    "def create_language_detector(nlp, name):\n",
    "    return LanguageDetector(language_detection_function=None)\n",
    "\n",
    "detect_lang = spacy.load(\"en_core_web_sm\")\n",
    "detect_lang.add_pipe('language_detector')\n",
    "english_not_detected = []\n",
    "\n",
    "\n",
    "# GENERAL FUNCTIONS\n",
    "def process_commits(repos_dir, repo, codebert_tokenize=\"code_only\"):\n",
    "    \"\"\"\n",
    "    Pre-processes commit messages in a repo.\n",
    "    Tokenizes the commit messages and the diff code for each commit in a repository. \n",
    "    Determines whether diff code has been added or deleted.\n",
    "\n",
    "    :param repo: A pre-downloaded Git repository to process.\n",
    "    :param codebert_tokenize: Specifies whether to tokenize the message text and/or code in the commit message. \n",
    "                     Set to \"all\" (default), \"code_only\" or None. \n",
    "    \"\"\"\n",
    "    repo_path = os.path.join(repos_dir, repo)\n",
    "    # Basic error handling for input params\n",
    "    if codebert_tokenize not in [\"code_only\", \"all\", None]:\n",
    "        raise Exception(\"Input parameter codebert_tokenize must be 'code_only', 'all' or None. \")\n",
    "    if not os.path.exists(repo_path):\n",
    "        raise FileNotFoundError(errno.ENOENT, os.strerror(errno.ENOENT), repo_path)\n",
    "\n",
    "    # Loops over all commits in the repository (Python code only)\n",
    "    for commit in RepositoryMining(repo_path, only_modifications_with_file_types=\"py\").traverse_commits():\n",
    "        # Get the commit message text\n",
    "        msg = commit.msg.split(\"\\n\")[0]\n",
    "        # Remove unecessary characters from the message\n",
    "        cleaned_msg = re.sub(r\"(\\(|)#([0-9])+(\\)|)\", \"\", msg)\n",
    "        # Only keep commits with commit messages in English\n",
    "        langdetect_result = detect_lang(cleaned_msg)._.language\n",
    "        if langdetect_result[\"language\"] != \"en\":\n",
    "            english_not_detected.append(cleaned_msg)\n",
    "            continue\n",
    "        # Tokenizing the commit message text\n",
    "        if codebert_tokenize == \"all\":\n",
    "            # Tokenize the commit message with a CodeBERT tokenizer\n",
    "            msg_tokens = cb_tokenizer.tokenize(cleaned_msg)\n",
    "        else: \n",
    "            # Only perform simple NLTK tokenization\n",
    "            msg_tokens = word_tokenize(cleaned_msg)\n",
    "\n",
    "        # Only keep messages that are over a certain length, so that the model has enough text to train on\n",
    "        if len(msg_tokens) < 3:\n",
    "            continue\n",
    "        # Only keep commits with less than four file changes\n",
    "        if len(commit.modifications) > 3:\n",
    "            continue\n",
    "        # Discard commits that reference an issue, e.g. \"#454123\" or \"gh-24558\"\n",
    "        filter_expr = re.compile(r'(#|gh-)[0-9]{3,}')\n",
    "        if any((match := filter_expr.search(msg_token)) for msg_token in msg_tokens):\n",
    "            print(f\"Discarding commit, found issue reference in:\\n{msg_token}\")\n",
    "            continue\n",
    "        \n",
    "        # Looping over the file modifications in the commit\n",
    "        for mod in commit.modifications:\n",
    "            # FILTERING\n",
    "            if not (mod.old_path and mod.new_path):\n",
    "                continue\n",
    "            if os.path.splitext(mod.new_path)[1] != \".py\": # Python code only (excluding notebooks)\n",
    "                continue\n",
    "            if (not mod.diff_parsed[\"added\"]) or (not mod.diff_parsed[\"deleted\"]): # Only added and deleted code\n",
    "                continue\n",
    "            \n",
    "            # Keep track of added and deleted code in the file\n",
    "            added, deleted = [], []\n",
    "\n",
    "            # Looping over added lines of code\n",
    "            for _, code in mod.diff_parsed[\"added\"]:\n",
    "                if codebert_tokenize == \"all\" or codebert_tokenize == \"code_only\":\n",
    "                    # Tokenizing the added line of code with a CodeBERT tokenizer\n",
    "                    code = cb_tokenizer.tokenize(code)\n",
    "                added.extend(code)\n",
    "\n",
    "            # Looping over deleted lines of code\n",
    "            for _, code in mod.diff_parsed[\"deleted\"]:\n",
    "                if codebert_tokenize == \"all\" or codebert_tokenize == \"code_only\":\n",
    "                    # Tokenizing the deleted line of code with a CodeBERT tokenizer\n",
    "                    code = cb_tokenizer.tokenize(code)\n",
    "                deleted.extend(code)\n",
    "            \n",
    "            # Check to see if the source length is a max of 256 tokens. \n",
    "            # (Long messages make fine-tuning difficult)\n",
    "            if added and deleted and (len(added) + len(deleted) <= 256):\n",
    "                with jsonlines.open(output_file, mode=\"a\") as writer:\n",
    "                    writer.write({\n",
    "                            \"commit_message\": msg_tokens,\n",
    "                            \"added\": added,\n",
    "                            \"deleted\": deleted\n",
    "                            })\n",
    "\n",
    "# Saves parsed (tokenized) code to json lines (.jsonl)\n",
    "def create_jsonl_dataset(lines, purpose):\n",
    "    saved_path = os.path.join(output_dir, purpose)\n",
    "    for line in lines:\n",
    "        with jsonlines.open(f\"{saved_path}.jsonl\", mode=\"a\") as dataset:\n",
    "            dataset.write(line)\n",
    "\n",
    "\n",
    "# RUNNING THE PRE-PROCESSING STEPS ON THE DOWNLOADED REPOSITORIES\n",
    "repos = set()\n",
    "with open(repositories, encoding=\"utf-8\") as f:\n",
    "    for _, line in enumerate(f):\n",
    "        line = line.strip()\n",
    "        repos.add(line.replace('https://github.com/', ''))\n",
    "\n",
    "# Ensure that the output directory exists\n",
    "os.makedirs(output_dir, exist_ok=True)\n",
    "\n",
    "# Process the Git repositories\n",
    "for i, repo in enumerate(repos): \n",
    "    print(f\"Processing repo number {i + 1} out of {len(repos)} ({repo})\")\n",
    "    try:\n",
    "        process_commits(repos_dir, repo, codebert_tokenize=\"code_only\")\n",
    "    except FileNotFoundError as err:\n",
    "        print(err)\n",
    "        continue\n",
    "\n",
    "# Printing some negative samples from language detection task\n",
    "print(f\"Some examples of words that were labelled as not English: \", english_not_detected[:30])\n",
    "print(f\"Number of words labelled as not English: {len(english_not_detected)}\\n\\n\")\n",
    "\n",
    "# Load the processed commits from the dataset.jsonl file to a single list\n",
    "data = []\n",
    "with open(output_file, encoding=\"utf-8\") as dataset_file:\n",
    "    for line in dataset_file:\n",
    "        line = line.strip()  # Remove unecessary whitespace\n",
    "        data.append(json.loads(line))\n",
    "\n",
    "# Creating train, validation and test datasets by shuffling and splicing the list\n",
    "# Adding a seed to the randomizer keeps the split consistent over multiple trials\n",
    "random.seed(42)\n",
    "random.shuffle(data)\n",
    "create_jsonl_dataset(data[:int(len(data) * 0.9)], purpose='train')\n",
    "create_jsonl_dataset(data[int(len(data) * 0.9):int(len(data) * 0.95)], purpose='valid')\n",
    "create_jsonl_dataset(data[int(len(data) * 0.95):], purpose='test')\n",
    "\n",
    "print(\"\\nShowing some examples of training data: \")\n",
    "for data_dict in data[:int(len(data) * 0.9)][:10]:\n",
    "    print(data_dict)"
   ]
  },
  {
   "cell_type": "markdown",
   "metadata": {
    "id": "VqY05w4OwWPq"
   },
   "source": [
    "### Fine-Tuning CodeBERT on Git Diffs"
   ]
  },
  {
   "cell_type": "code",
   "execution_count": null,
   "metadata": {
    "colab": {
     "base_uri": "https://localhost:8080/"
    },
    "id": "wKKlYd2c1-uU",
    "outputId": "24fe4174-4cea-472c-f37f-a2f1801aac6c"
   },
   "outputs": [
    {
     "name": "stdout",
     "output_type": "stream",
     "text": [
      "usage: train.py [-h] --model_type MODEL_TYPE --model_name_or_path\n",
      "                MODEL_NAME_OR_PATH --output_dir OUTPUT_DIR\n",
      "                [--load_model_path LOAD_MODEL_PATH]\n",
      "                [--train_filename TRAIN_FILENAME]\n",
      "                [--dev_filename DEV_FILENAME] [--test_filename TEST_FILENAME]\n",
      "                [--config_name CONFIG_NAME] [--tokenizer_name TOKENIZER_NAME]\n",
      "                [--max_source_length MAX_SOURCE_LENGTH]\n",
      "                [--max_target_length MAX_TARGET_LENGTH] [--do_train]\n",
      "                [--do_eval] [--do_test] [--do_lower_case] [--no_cuda]\n",
      "                [--train_batch_size TRAIN_BATCH_SIZE]\n",
      "                [--eval_batch_size EVAL_BATCH_SIZE]\n",
      "                [--gradient_accumulation_steps GRADIENT_ACCUMULATION_STEPS]\n",
      "                [--learning_rate LEARNING_RATE] [--beam_size BEAM_SIZE]\n",
      "                [--weight_decay WEIGHT_DECAY] [--adam_epsilon ADAM_EPSILON]\n",
      "                [--max_grad_norm MAX_GRAD_NORM]\n",
      "                [--num_train_epochs NUM_TRAIN_EPOCHS] [--max_steps MAX_STEPS]\n",
      "                [--eval_steps EVAL_STEPS] [--train_steps TRAIN_STEPS]\n",
      "                [--warmup_steps WARMUP_STEPS] [--local_rank LOCAL_RANK]\n",
      "                [--seed SEED]\n",
      "\n",
      "optional arguments:\n",
      "  -h, --help            show this help message and exit\n",
      "  --model_type MODEL_TYPE\n",
      "                        Model type: e.g. roberta\n",
      "  --model_name_or_path MODEL_NAME_OR_PATH\n",
      "                        Path to pre-trained model: e.g. roberta-base\n",
      "  --output_dir OUTPUT_DIR\n",
      "                        The output directory where the model predictions and\n",
      "                        checkpoints will be written.\n",
      "  --load_model_path LOAD_MODEL_PATH\n",
      "                        Path to trained model: Should contain the .bin files\n",
      "  --train_filename TRAIN_FILENAME\n",
      "                        The train filename. Should contain the .jsonl files\n",
      "                        for this task.\n",
      "  --dev_filename DEV_FILENAME\n",
      "                        The dev filename. Should contain the .jsonl files for\n",
      "                        this task.\n",
      "  --test_filename TEST_FILENAME\n",
      "                        The test filename. Should contain the .jsonl files for\n",
      "                        this task.\n",
      "  --config_name CONFIG_NAME\n",
      "                        Pretrained config name or path if not the same as\n",
      "                        model_name\n",
      "  --tokenizer_name TOKENIZER_NAME\n",
      "                        Pretrained tokenizer name or path if not the same as\n",
      "                        model_name\n",
      "  --max_source_length MAX_SOURCE_LENGTH\n",
      "                        The maximum total source sequence length after\n",
      "                        tokenization. Sequences longer than this will be\n",
      "                        truncated, sequences shorter will be padded.\n",
      "  --max_target_length MAX_TARGET_LENGTH\n",
      "                        The maximum total target sequence length after\n",
      "                        tokenization. Sequences longer than this will be\n",
      "                        truncated, sequences shorter will be padded.\n",
      "  --do_train            Whether to run training.\n",
      "  --do_eval             Whether to run eval on the dev set.\n",
      "  --do_test             Whether to run eval on the dev set.\n",
      "  --do_lower_case       Set this flag if you are using an uncased model.\n",
      "  --no_cuda             Avoid using CUDA when available\n",
      "  --train_batch_size TRAIN_BATCH_SIZE\n",
      "                        Batch size per GPU/CPU for training.\n",
      "  --eval_batch_size EVAL_BATCH_SIZE\n",
      "                        Batch size per GPU/CPU for evaluation.\n",
      "  --gradient_accumulation_steps GRADIENT_ACCUMULATION_STEPS\n",
      "                        Number of updates steps to accumulate before\n",
      "                        performing a backward/update pass.\n",
      "  --learning_rate LEARNING_RATE\n",
      "                        The initial learning rate for Adam.\n",
      "  --beam_size BEAM_SIZE\n",
      "                        beam size for beam search\n",
      "  --weight_decay WEIGHT_DECAY\n",
      "                        Weight deay if we apply some.\n",
      "  --adam_epsilon ADAM_EPSILON\n",
      "                        Epsilon for Adam optimizer.\n",
      "  --max_grad_norm MAX_GRAD_NORM\n",
      "                        Max gradient norm.\n",
      "  --num_train_epochs NUM_TRAIN_EPOCHS\n",
      "                        Total number of training epochs to perform.\n",
      "  --max_steps MAX_STEPS\n",
      "                        If > 0: set total number of training steps to perform.\n",
      "                        Override num_train_epochs.\n",
      "  --eval_steps EVAL_STEPS\n",
      "  --train_steps TRAIN_STEPS\n",
      "  --warmup_steps WARMUP_STEPS\n",
      "                        Linear warmup over warmup_steps.\n",
      "  --local_rank LOCAL_RANK\n",
      "                        For distributed training: local_rank\n",
      "  --seed SEED           random seed for initialization\n"
     ]
    },
    {
     "data": {
      "text/plain": []
     },
     "execution_count": 16,
     "metadata": {},
     "output_type": "execute_result"
    }
   ],
   "source": [
    "%%shell\n",
    "cd CodeBERT-CommitMessage-Generator\n",
    "python3 train.py --help"
   ]
  },
  {
   "cell_type": "code",
   "execution_count": null,
   "metadata": {
    "colab": {
     "base_uri": "https://localhost:8080/"
    },
    "id": "2JiTAjj-BjCA",
    "outputId": "a1ad9a2c-16df-4b4b-9cd5-f337df4b9dd0"
   },
   "outputs": [
    {
     "name": "stdout",
     "output_type": "stream",
     "text": [
      "Looking in indexes: https://pypi.org/simple, https://us-python.pkg.dev/colab-wheels/public/simple/\n",
      "Requirement already satisfied: gdown in /usr/local/lib/python3.7/dist-packages (4.4.0)\n",
      "Requirement already satisfied: tqdm in /usr/local/lib/python3.7/dist-packages (from gdown) (4.64.1)\n",
      "Requirement already satisfied: requests[socks] in /usr/local/lib/python3.7/dist-packages (from gdown) (2.23.0)\n",
      "Requirement already satisfied: filelock in /usr/local/lib/python3.7/dist-packages (from gdown) (3.8.0)\n",
      "Requirement already satisfied: six in /usr/local/lib/python3.7/dist-packages (from gdown) (1.15.0)\n",
      "Requirement already satisfied: beautifulsoup4 in /usr/local/lib/python3.7/dist-packages (from gdown) (4.6.3)\n",
      "Requirement already satisfied: urllib3!=1.25.0,!=1.25.1,<1.26,>=1.21.1 in /usr/local/lib/python3.7/dist-packages (from requests[socks]->gdown) (1.24.3)\n",
      "Requirement already satisfied: idna<3,>=2.5 in /usr/local/lib/python3.7/dist-packages (from requests[socks]->gdown) (2.10)\n",
      "Requirement already satisfied: certifi>=2017.4.17 in /usr/local/lib/python3.7/dist-packages (from requests[socks]->gdown) (2022.9.24)\n",
      "Requirement already satisfied: chardet<4,>=3.0.2 in /usr/local/lib/python3.7/dist-packages (from requests[socks]->gdown) (3.0.4)\n",
      "Requirement already satisfied: PySocks!=1.5.7,>=1.5.6 in /usr/local/lib/python3.7/dist-packages (from requests[socks]->gdown) (1.7.1)\n",
      "Downloading...\n",
      "From: https://drive.google.com/uc?id=1YrkwfM-0VBCJaa9NYaXUQPODdGPsmQY4\n",
      "To: /content/models/added/pytorch_model.bin\n",
      "100% 707M/707M [00:02<00:00, 261MB/s]\n"
     ]
    }
   ],
   "source": [
    "PRETRAINED_CODEBERT_MODEL='1YrkwfM-0VBCJaa9NYaXUQPODdGPsmQY4'\n",
    "!pip install gdown \\\n",
    "    && mkdir -p CodeBERT-CommitMessage-Generator/models/added \\\n",
    "    && gdown \"https://drive.google.com/uc?id=$PRETRAINED_CODEBERT_MODEL\" -O models/added/pytorch_model.bin"
   ]
  },
  {
   "cell_type": "code",
   "execution_count": null,
   "metadata": {
    "colab": {
     "base_uri": "https://localhost:8080/"
    },
    "id": "0LreH3lfLGtY",
    "outputId": "4bccaee4-e602-4459-c257-2e1f9051a57f"
   },
   "outputs": [
    {
     "name": "stdout",
     "output_type": "stream",
     "text": [
      "Sun Nov  6 02:18:36 2022       \n",
      "+-----------------------------------------------------------------------------+\n",
      "| NVIDIA-SMI 460.32.03    Driver Version: 460.32.03    CUDA Version: 11.2     |\n",
      "|-------------------------------+----------------------+----------------------+\n",
      "| GPU  Name        Persistence-M| Bus-Id        Disp.A | Volatile Uncorr. ECC |\n",
      "| Fan  Temp  Perf  Pwr:Usage/Cap|         Memory-Usage | GPU-Util  Compute M. |\n",
      "|                               |                      |               MIG M. |\n",
      "|===============================+======================+======================|\n",
      "|   0  A100-SXM4-40GB      Off  | 00000000:00:04.0 Off |                    0 |\n",
      "| N/A   40C    P0    64W / 400W |      0MiB / 40536MiB |      4%      Default |\n",
      "|                               |                      |             Disabled |\n",
      "+-------------------------------+----------------------+----------------------+\n",
      "                                                                               \n",
      "+-----------------------------------------------------------------------------+\n",
      "| Processes:                                                                  |\n",
      "|  GPU   GI   CI        PID   Type   Process name                  GPU Memory |\n",
      "|        ID   ID                                                   Usage      |\n",
      "|=============================================================================|\n",
      "|  No running processes found                                                 |\n",
      "+-----------------------------------------------------------------------------+\n"
     ]
    }
   ],
   "source": [
    "gpu_info = !nvidia-smi\n",
    "gpu_info = '\\n'.join(gpu_info)\n",
    "if gpu_info.find('failed') >= 0:\n",
    "  print('Not connected to a GPU')\n",
    "else:\n",
    "  print(gpu_info)"
   ]
  },
  {
   "cell_type": "code",
   "execution_count": null,
   "metadata": {
    "colab": {
     "base_uri": "https://localhost:8080/"
    },
    "id": "AGFV7BmM5QcI",
    "outputId": "5b5eb23b-cc5a-4b84-ba7b-2bf3a9d9b987"
   },
   "outputs": [
    {
     "name": "stdout",
     "output_type": "stream",
     "text": [
      "WARNING:__main__:Process rank: -1, device: cuda, n_gpu: 1, distributed training: False\n",
      "/usr/local/lib/python3.7/dist-packages/transformers/optimization.py:310: FutureWarning: This implementation of AdamW is deprecated and will be removed in a future version. Use the PyTorch implementation torch.optim.AdamW instead, or set `no_deprecation_warning=True` to disable this warning\n",
      "  FutureWarning,\n",
      "  0% 0/10000 [00:00<?, ?it/s]/usr/local/lib/python3.7/dist-packages/transformers/modeling_utils.py:764: FutureWarning: The `device` argument is deprecated and will be removed in v5 of Transformers.\n",
      "  \"The `device` argument is deprecated and will be removed in v5 of Transformers.\", FutureWarning\n",
      "loss 0.6633:  10% 998/10000 [15:41<2:22:30,  1.05it/s]/content/CodeBERT-CommitMessage-Generator/commit/model/model.py:169: UserWarning: __floordiv__ is deprecated, and its behavior will change in a future version of pytorch. It currently rounds toward 0 (like the 'trunc' function NOT 'floor'). This results in incorrect rounding for negative values. To keep the current behavior, use torch.div(a, b, rounding_mode='trunc'), or for actual floor division, use torch.div(a, b, rounding_mode='floor').\n",
      "  prevK = bestScoresId // numWords\n",
      "Total: 88\n",
      "loss 0.0157:  20% 1998/10000 [31:36<2:06:41,  1.05it/s]Total: 88\n",
      "loss 0.0077:  30% 2998/10000 [47:29<1:50:48,  1.05it/s]Total: 88\n",
      "loss 0.0078:  40% 3998/10000 [1:03:22<1:35:11,  1.05it/s]Total: 88\n",
      "loss 0.0046:  50% 4998/10000 [1:19:15<1:19:09,  1.05it/s]Total: 88\n",
      "loss 0.0041:  60% 5998/10000 [1:35:08<1:03:22,  1.05it/s]Total: 88\n",
      "loss 0.0032:  70% 6998/10000 [1:51:01<47:30,  1.05it/s]Total: 88\n",
      "loss 0.002:  80% 7998/10000 [2:06:54<31:41,  1.05it/s]Total: 88\n",
      "loss 0.0016:  90% 8998/10000 [2:22:47<15:52,  1.05it/s]Total: 88\n",
      "loss 0.0014: 100% 9998/10000 [2:38:41<00:01,  1.05it/s]Total: 88\n",
      "loss 0.0003: 100% 10000/10000 [2:38:55<00:00,  1.05it/s]\n"
     ]
    },
    {
     "data": {
      "text/plain": []
     },
     "execution_count": 19,
     "metadata": {},
     "output_type": "execute_result"
    }
   ],
   "source": [
    "# Using Microsoft's CodeBERT training script (with Tae-Hwang Jung's modifications) \n",
    "# to fine-tune CodeBERT on Git repositories\n",
    "%%shell\n",
    "\n",
    "lr=5e-5\n",
    "batch_size=32\n",
    "beam_size=8  # Reduced from 10\n",
    "source_length=256  # Maximum code input token length\n",
    "target_length=128  # Maximum commit message text token length\n",
    "output_dir=models/diff\n",
    "train_file=data/parsed/python/train.jsonl  # 80%\n",
    "dev_file=data/parsed/python/valid.jsonl  # 10%\n",
    "test_file=data/parsed/python/test.jsonl  # 10%\n",
    "num_train_epochs=8  # Number of training epochs to perform\n",
    "eval_steps=1000  # Number of evaluation steps to perform\n",
    "# The encoder of the Seq2Seq transformer model \n",
    "# is initialised with CodeBERT weights fine-tuned for code documentation generation\n",
    "saved_model=models/added/pytorch_model.bin\n",
    "\n",
    "python3 train.py --do_train --do_eval --do_test --model_type roberta \\\n",
    "\t--model_name_or_path microsoft/codebert-base \\\n",
    "\t--load_model_path $saved_model \\\n",
    "\t--train_filename $train_file \\\n",
    "\t--dev_filename $dev_file \\\n",
    "\t--test_filename $test_file \\\n",
    "\t--output_dir $output_dir \\\n",
    "\t--max_source_length $source_length \\\n",
    "\t--max_target_length $target_length \\\n",
    "\t--beam_size $beam_size \\\n",
    "\t--train_batch_size $batch_size \\\n",
    "\t--eval_batch_size $batch_size \\\n",
    "\t--learning_rate $lr \\\n",
    "\t--train_steps $train_steps \\\n",
    "\t--eval_steps $eval_steps"
   ]
  },
  {
   "cell_type": "code",
   "execution_count": null,
   "metadata": {
    "id": "PKijOMs2gntt"
   },
   "outputs": [],
   "source": [
    "from google.colab import files\n",
    "files.download(\"CodeBERT-CommitMessage-Generator/models/diff/checkpoint-best-bleu/pytorch_model.bin\")"
   ]
  },
  {
   "cell_type": "code",
   "execution_count": 5,
   "metadata": {
    "id": "0XS8CZ7wwWPr"
   },
   "outputs": [
    {
     "name": "stdout",
     "output_type": "stream",
     "text": [
      "Total train steps:  10000\n",
      "Total eval steps:  10\n"
     ]
    },
    {
     "data": {
      "image/png": "[encoded data removed]",
      "text/plain": [
       "<Figure size 640x480 with 1 Axes>"
      ]
     },
     "metadata": {},
     "output_type": "display_data"
    }
   ],
   "source": [
    "# Visualizing training loss\n",
    "train_loss = []\n",
    "eval_loss = []\n",
    "with open(\"models/diff/loss/train_loss-python-50.txt\", \"r\", encoding=\"UTF-8\") as file:\n",
    "    for line in file.readlines():\n",
    "        step, loss = line.split(\":\")\n",
    "        train_loss.append(float(loss.replace(\"\\n\", \"\")))\n",
    "\n",
    "with open(\"models/diff/loss/eval_loss-python-50.txt\", \"r\", encoding=\"UTF-8\") as file:\n",
    "    for line in file.readlines():\n",
    "        step, loss = line.split(\":\")\n",
    "        eval_loss.append(float(loss.replace(\"\\n\", \"\")))\n",
    "        \n",
    "print(f\"Total train steps: \", len(train_loss))\n",
    "print(f\"Total eval steps: \", len(eval_loss))\n",
    "train_steps = [i for i in range(len(train_loss))]\n",
    "eval_steps = [(i+1)*1000 for i in range(len(eval_loss))]\n",
    "plt.plot(train_steps, train_loss, label=\"Training loss\")\n",
    "plt.plot(eval_steps, eval_loss, label=\"Validation loss\")\n",
    "plt.title('Model Loss During Fine-Tuning')\n",
    "plt.xlabel('Training steps')\n",
    "plt.ylabel('Model Loss')\n",
    "plt.legend()\n",
    "plt.show()"
   ]
  },
  {
   "cell_type": "markdown",
   "metadata": {
    "id": "N_u1osYJ86B0"
   },
   "source": [
    "### Running predictions on a single example"
   ]
  },
  {
   "cell_type": "code",
   "execution_count": 6,
   "metadata": {},
   "outputs": [
    {
     "name": "stdout",
     "output_type": "stream",
     "text": [
      "loss\t\t   pytorch_model_tuned_python-50.bin\r\n",
      "pytorch_model.bin  pytorch_model_tuned_python-5.bin\r\n"
     ]
    }
   ],
   "source": [
    "!ls models/diff"
   ]
  },
  {
   "cell_type": "code",
   "execution_count": 7,
   "metadata": {
    "id": "6FGW8SsKjeGR",
    "outputId": "64b4075e-d467-41b3-ba05-4079ef8b4fab"
   },
   "outputs": [
    {
     "name": "stdout",
     "output_type": "stream",
     "text": [
      "Is GPU available?   False\n"
     ]
    }
   ],
   "source": [
    "class Example(object):\n",
    "    \"\"\"A single training/test example.\"\"\"\n",
    "    def __init__(self,\n",
    "                 idx,\n",
    "                 added,\n",
    "                 deleted,\n",
    "                 target,\n",
    "                 ):\n",
    "        self.idx = idx\n",
    "        self.added = added\n",
    "        self.deleted = deleted\n",
    "        self.target = target\n",
    "\n",
    "def get_model(model_class, config, tokenizer, mode):\n",
    "    encoder = model_class(config=config)\n",
    "    decoder_layer = nn.TransformerDecoderLayer(\n",
    "        d_model=config.hidden_size, nhead=config.num_attention_heads\n",
    "    )\n",
    "    decoder = nn.TransformerDecoder(decoder_layer, num_layers=6)\n",
    "    model = Seq2Seq(encoder=encoder, decoder=decoder, config=config,\n",
    "            beam_size=args.beam_size, max_length=args.max_target_length,\n",
    "            sos_id=tokenizer.cls_token_id, eos_id=tokenizer.sep_token_id)\n",
    "\n",
    "    assert args.load_model_path\n",
    "    print(\"model path: \", os.path.join(args.load_model_path, mode, 'pytorch_model.bin'))\n",
    "    assert os.path.exists(os.path.join(args.load_model_path, mode, 'pytorch_model.bin'))\n",
    "\n",
    "    model.load_state_dict(\n",
    "        torch.load(\n",
    "            os.path.join(args.load_model_path, mode, 'pytorch_model.bin'),\n",
    "            map_location=torch.device('cpu')\n",
    "        ),\n",
    "        strict=False\n",
    "    )\n",
    "    return model\n",
    "\n",
    "def get_features(examples):\n",
    "    features = convert_examples_to_features(examples, args.tokenizer, args, stage='test')\n",
    "    all_source_ids = torch.tensor(\n",
    "        [f.source_ids[:args.max_source_length] for f in features], dtype=torch.long\n",
    "    )\n",
    "    all_source_mask = torch.tensor(\n",
    "        [f.source_mask[:args.max_source_length] for f in features], dtype=torch.long\n",
    "    )\n",
    "    all_patch_ids = torch.tensor(\n",
    "        [f.patch_ids[:args.max_source_length] for f in features], dtype=torch.long\n",
    "    )\n",
    "    return TensorDataset(all_source_ids, all_source_mask, all_patch_ids)\n",
    "\n",
    "def inference(model, data):\n",
    "    \"\"\"\n",
    "    :data: A torch.utils.data.dataset.TensorDataset object\n",
    "    \"\"\"\n",
    "    # Calculate bleu\n",
    "    eval_sampler = SequentialSampler(data)\n",
    "    eval_dataloader = DataLoader(data, sampler=eval_sampler, batch_size=len(data))\n",
    "\n",
    "    model.eval()\n",
    "    p = []\n",
    "    for batch in tqdm(eval_dataloader, total=len(eval_dataloader)):\n",
    "        batch = tuple(t.to(args.device) for t in batch)\n",
    "        source_ids, source_mask, patch_ids = batch\n",
    "        with torch.no_grad():\n",
    "            preds = model(source_ids=source_ids, source_mask=source_mask, patch_ids=patch_ids)\n",
    "            for pred in preds:\n",
    "                t = pred[0].cpu().numpy()\n",
    "                t = list(t)\n",
    "                if 0 in t:\n",
    "                    t = t[:t.index(0)]\n",
    "                text = args.tokenizer.decode(t, clean_up_tokenization_spaces=False)\n",
    "                p.append(text)\n",
    "    return p\n",
    "\n",
    "args = easydict.EasyDict({\n",
    "    'load_model_path': 'models', \n",
    "    'model_type': 'roberta',\n",
    "    'config_name' : 'microsoft/codebert-base',\n",
    "    'tokenizer_name' : 'microsoft/codebert-base',\n",
    "    'max_source_length' : 512,\n",
    "    'max_target_length' : 128,\n",
    "    'beam_size' : 10,\n",
    "    'do_lower_case' : False,\n",
    "    'device' : torch.device(\"cuda\" if torch.cuda.is_available() else \"cpu\")\n",
    "})\n",
    "\n",
    "print(\"Is GPU available?  \", torch.cuda.is_available())"
   ]
  },
  {
   "cell_type": "markdown",
   "metadata": {
    "id": "tZFdp9aL9ior"
   },
   "source": [
    "Building the PL-NL model with the fine-tuned weights"
   ]
  },
  {
   "cell_type": "code",
   "execution_count": 8,
   "metadata": {
    "colab": {
     "base_uri": "https://localhost:8080/",
     "height": 380
    },
    "id": "zsISSK8oQBfD",
    "outputId": "5f0c9099-ef46-4daa-feef-43fca2ee5d06"
   },
   "outputs": [
    {
     "name": "stdout",
     "output_type": "stream",
     "text": [
      "model path:  models/diff/pytorch_model.bin\n"
     ]
    }
   ],
   "source": [
    "config_class, model_class, tokenizer_class = MODEL_CLASSES[args.model_type]\n",
    "config = config_class.from_pretrained(args.config_name)\n",
    "args.tokenizer = tokenizer_class.from_pretrained(args.tokenizer_name, do_lower_case=args.do_lower_case)\n",
    "\n",
    "# Build model\n",
    "args.diff_model = get_model(model_class=model_class, config=config,\n",
    "                        tokenizer=args.tokenizer, mode='diff').to(args.device)"
   ]
  },
  {
   "cell_type": "markdown",
   "metadata": {
    "id": "1dtAhq1V99cY"
   },
   "source": [
    "Running prediction"
   ]
  },
  {
   "cell_type": "code",
   "execution_count": 15,
   "metadata": {
    "id": "zF5JFAqiwWP6"
   },
   "outputs": [],
   "source": [
    "diffmessage = \"\"\"\n",
    "diff --git a/newfile.py b/newfile.py\n",
    "new file mode 100644\n",
    "index 0000000..cbb72b8\n",
    "--- /dev/null\n",
    "+++ b/newfile.py\n",
    "@@ -0,0 +1,9 @@\n",
    "+#!/usr/bin/env python3\n",
    "+\n",
    "-import torch\n",
    "-import argparse\n",
    "-import numpy\n",
    "+import numpy as np\n",
    "+def multiply_vectors(v1, v2):\n",
    "+    return np.dot(v1, v2)\n",
    "\"\"\"\n",
    "\n",
    "diffmessage2 = \"\"\"\n",
    "diff --git a/test.py b/test.py\n",
    "index d13f441..1b1b82a 100644\n",
    "--- a/test.py\n",
    "+++ b/test.py\n",
    "@@ -1,6 +1,3 @@\n",
    "\n",
    "-import torch\n",
    "-import argparse\n",
    "-import numpy\n",
    "-import sklearn\n",
    "+import matplotlib.pyplot as plt\n",
    "def add(a, b):\n",
    "     return a + b\n",
    "\"\"\"\n",
    "\n",
    "diffmessage3 = \"\"\"\n",
    "diff --git a/test.py b/test.py\n",
    "new file mode 100644\n",
    "index 0000000..d13f441\n",
    "--- /dev/null\n",
    "+++ b/test.py\n",
    "@@ -0,0 +1,6 @@\n",
    "+\n",
    "+import torch\n",
    "+import argparse\n",
    "+\n",
    "+def add(a, b):\n",
    "+    return a + b\n",
    "\"\"\"\n",
    "\n",
    "diffmessage4 = \"\"\"\n",
    "diff --git a/newfile.py b/newfile.py\n",
    "new file mode 100644\n",
    "index 0000000..8724a42\n",
    "--- /dev/null\n",
    "+++ b/newfile.py\n",
    "@@ -0,0 +1,5 @@\n",
    "+#!usr/bin/env python3\n",
    "+\n",
    "+# Gets the url\n",
    "+def get_url(domain, path):\n",
    "+    return domain + \"/\" + path\n",
    "diff --git a/ngrok.conf b/ngrok.conf\n",
    "new file mode 100644\n",
    "index 0000000..8e50d0f\n",
    "--- /dev/null\n",
    "\"\"\""
   ]
  },
  {
   "cell_type": "code",
   "execution_count": 17,
   "metadata": {
    "id": "0bq--xO2D6vl",
    "outputId": "4a17af0b-6fb7-44b5-89b3-319d75ae033b"
   },
   "outputs": [
    {
     "name": "stdout",
     "output_type": "stream",
     "text": [
      "\n",
      "\n",
      "----- Tokenized diff number 0 ------\n",
      "['#', '!/', 'usr', '/', 'bin', '/', 'env', 'Ġpython', '3', 'Ġimport', 'Ġn', 'umpy', 'Ġas', 'Ġnp', 'Ġdef', 'Ġmultiply', '_', 've', 'ctors', '(', 'v', '1', ',', 'Ġv', '2', '):', 'Ġ', 'Ġ', 'Ġ', 'Ġ', 'Ġreturn', 'Ġnp', '.', 'dot', '(', 'v', '1', ',', 'Ġv', '2', ')']\n",
      "['import', 'Ġtorch', 'Ġimport', 'Ġarg', 'parse', 'Ġimport', 'Ġn', 'umpy']\n"
     ]
    },
    {
     "name": "stderr",
     "output_type": "stream",
     "text": [
      "100%|█████████████████████████████████████████████| 1/1 [00:04<00:00,  4.36s/it]\n"
     ]
    },
    {
     "name": "stdout",
     "output_type": "stream",
     "text": [
      "Autogenerated commit message: \n",
      " ['naming convention fixes in many files ']\n",
      "\n",
      "\n",
      "----- Tokenized diff number 1 ------\n",
      "['import', 'Ġmat', 'plot', 'lib', '.', 'py', 'plot', 'Ġas', 'Ġpl', 't']\n",
      "['import', 'Ġtorch', 'Ġimport', 'Ġarg', 'parse', 'Ġimport', 'Ġn', 'umpy', 'Ġimport', 'Ġsk', 'learn']\n"
     ]
    },
    {
     "name": "stderr",
     "output_type": "stream",
     "text": [
      "100%|█████████████████████████████████████████████| 1/1 [00:03<00:00,  3.18s/it]\n"
     ]
    },
    {
     "name": "stdout",
     "output_type": "stream",
     "text": [
      "Autogenerated commit message: \n",
      " ['isort --profile black . ']\n",
      "\n",
      "\n",
      "----- Tokenized diff number 2 ------\n",
      "['import', 'Ġtorch', 'Ġimport', 'Ġarg', 'parse', 'Ġdef', 'Ġadd', '(', 'a', ',', 'Ġb', '):', 'Ġ', 'Ġ', 'Ġ', 'Ġ', 'Ġreturn', 'Ġa', 'Ġ+', 'Ġb']\n",
      "[]\n"
     ]
    },
    {
     "name": "stderr",
     "output_type": "stream",
     "text": [
      "100%|█████████████████████████████████████████████| 1/1 [00:02<00:00,  2.77s/it]\n"
     ]
    },
    {
     "name": "stdout",
     "output_type": "stream",
     "text": [
      "Autogenerated commit message: \n",
      " ['naming convention fixes in many files ']\n",
      "\n",
      "\n",
      "----- Tokenized diff number 3 ------\n",
      "['#', '!', 'usr', '/', 'bin', '/', 'env', 'Ġpython', '3', 'Ġ#', 'ĠGets', 'Ġthe', 'Ġurl', 'Ġdef', 'Ġget', '_', 'url', '(', 'domain', ',', 'Ġpath', '):', 'Ġ', 'Ġ', 'Ġ', 'Ġ', 'Ġreturn', 'Ġdomain', 'Ġ+', 'Ġ\"/', '\"', 'Ġ+', 'Ġpath']\n",
      "[]\n"
     ]
    },
    {
     "name": "stderr",
     "output_type": "stream",
     "text": [
      "100%|█████████████████████████████████████████████| 1/1 [00:06<00:00,  6.13s/it]\n"
     ]
    },
    {
     "name": "stdout",
     "output_type": "stream",
     "text": [
      "Autogenerated commit message: \n",
      " ['Update pythonfinder']\n",
      "\n",
      "\n",
      "----- Tokenized diff number 3 ------\n",
      "['auth', 'token', ':', 'Ġ1', 'ks', 'k', 'Z', 'g', 'J', '8', 'K', 'p', 'CR', 'v', 'Y', 'nz', 'SF', '63', 'Ac', 'od', 'v', 'Br', '_', '4', 'RM', 'X', 'x', 'F', 'o', '4', 'Sa', '2', 'q', 'L', 'r', 'Ra', 'K', 'j', 'h', 'J', 'W', 'Ġregion', ':', 'Ġj', 'p', 'Ġconsole', '_', 'ui', ':', 'ĠFalse', 'Ġtunnels', ':', 'Ġ', 'Ġ', 'Ġinput', ':', 'Ġ', 'Ġ', 'Ġ', 'Ġ', 'Ġaddr', ':', 'Ġ5000', 'Ġ', 'Ġ', 'Ġ', 'Ġ', 'Ġproto', ':', 'Ġhttp', 'Ġ', 'Ġ', 'Ġ', 'Ġ', 'Ġ', 'Ġ', 'Ġoutput', ':', 'Ġ', 'Ġ', 'Ġ', 'Ġ', 'Ġaddr', ':', 'Ġ5000', 'Ġ', 'Ġ', 'Ġ', 'Ġ', 'Ġproto', ':', 'Ġhttp']\n",
      "[]\n"
     ]
    },
    {
     "name": "stderr",
     "output_type": "stream",
     "text": [
      "100%|█████████████████████████████████████████████| 1/1 [00:02<00:00,  2.88s/it]"
     ]
    },
    {
     "name": "stdout",
     "output_type": "stream",
     "text": [
      "Autogenerated commit message: \n",
      " ['Native YAML - system ']\n"
     ]
    },
    {
     "name": "stderr",
     "output_type": "stream",
     "text": [
      "\n"
     ]
    }
   ],
   "source": [
    "for i, diffmsg in enumerate([diffmessage, diffmessage2, diffmessage3, diffmessage4]):\n",
    "    # Parse the git diff with whatthepatch package\n",
    "    # Retrieve changes (added and deleted lines of code)\n",
    "    for idx, example in enumerate(whatthepatch.parse_patch(diffmsg)):\n",
    "        if not example.changes:\n",
    "            print(f\"no changes in {idx}\")\n",
    "            continue\n",
    "\n",
    "        isadded, isdeleted = False, False\n",
    "        added, deleted = [], []\n",
    "\n",
    "        # Determine if the line is added or deleted and add it to the corresponding list\n",
    "        for change in example.changes:\n",
    "            if change.old == None and change.new != None and change.line != \"\":\n",
    "                added.append(change.line)\n",
    "                isadded = True\n",
    "            elif change.old != None and change.new == None and change.line != \"\":\n",
    "                deleted.append(change.line)\n",
    "                isdeleted = True\n",
    "\n",
    "        # Tokenization\n",
    "        added_tokens = args.tokenizer.tokenize(\" \".join(added))\n",
    "        deleted_tokens = args.tokenizer.tokenize(\" \".join(deleted))\n",
    "        print(f\"\\n\\n----- Tokenized diff, from diff number {i + 1} ------\")\n",
    "        print(added_tokens)\n",
    "        print(deleted_tokens)\n",
    "\n",
    "        # Create a numerical vector representation\n",
    "        testsample = [Example(idx, added_tokens, deleted_tokens, target=None)]\n",
    "        sampledata = get_features(testsample)\n",
    "\n",
    "        # Generate a commit message\n",
    "        message = inference(model=args.diff_model, data=sampledata)\n",
    "        print(\"Autogenerated commit message: \\n\", message)"
   ]
  },
  {
   "cell_type": "code",
   "execution_count": null,
   "metadata": {
    "id": "_uB6-INswWP9"
   },
   "outputs": [],
   "source": []
  },
  {
   "cell_type": "code",
   "execution_count": null,
   "metadata": {},
   "outputs": [],
   "source": []
  }
 ],
 "metadata": {
  "colab": {
   "collapsed_sections": [],
   "provenance": []
  },
  "kernelspec": {
   "display_name": "Python 3 (ipykernel)",
   "language": "python",
   "name": "python3"
  },
  "language_info": {
   "codemirror_mode": {
    "name": "ipython",
    "version": 3
   },
   "file_extension": ".py",
   "mimetype": "text/x-python",
   "name": "python",
   "nbconvert_exporter": "python",
   "pygments_lexer": "ipython3",
   "version": "3.10.4"
  },
  "vscode": {
   "interpreter": {
    "hash": "9e13d24989e9aa84deaafec43a9be4b3b9f46f3756b11886b1eace5ab5637549"
   }
  }
 },
 "nbformat": 4,
 "nbformat_minor": 1
}
